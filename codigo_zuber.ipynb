{
 "cells": [
  {
   "cell_type": "markdown",
   "metadata": {},
   "source": [
    "1  IMPORTANDO OS DADOS"
   ]
  },
  {
   "cell_type": "code",
   "execution_count": null,
   "metadata": {},
   "outputs": [],
   "source": [
    "import pandas as pd\n",
    "import matplotlib.pyplot as plt\n",
    "import scipy.stats as stats"
   ]
  },
  {
   "cell_type": "code",
   "execution_count": null,
   "metadata": {},
   "outputs": [],
   "source": [
    "sql_01=pd.read_csv('/datasets/project_sql_result_01.csv')\n",
    "sql_04 =pd.read_csv('/datasets/project_sql_result_04.csv') \n",
    "sql_07 = pd.read_csv('/datasets/project_sql_result_07.csv')"
   ]
  },
  {
   "cell_type": "code",
   "execution_count": null,
   "metadata": {},
   "outputs": [],
   "source": [
    "sql_01.info()\n",
    "print()\n",
    "print(sql_01.sample(10))"
   ]
  },
  {
   "cell_type": "code",
   "execution_count": null,
   "metadata": {},
   "outputs": [],
   "source": [
    "sql_04.info()\n",
    "print()\n",
    "print(sql_04.sample(10))"
   ]
  },
  {
   "cell_type": "code",
   "execution_count": null,
   "metadata": {},
   "outputs": [],
   "source": [
    "sql_07.info()\n",
    "print()\n",
    "print(sql_07.sample(10))"
   ]
  },
  {
   "cell_type": "markdown",
   "metadata": {},
   "source": [
    "Ambos os dataframes não possuem observações ausentes e os tipos de dados correspondem ao esperado."
   ]
  },
  {
   "cell_type": "markdown",
   "metadata": {},
   "source": [
    "2  ANALISANDO OS DADOS"
   ]
  },
  {
   "cell_type": "markdown",
   "metadata": {},
   "source": [
    "2.1  10 principais destinos"
   ]
  },
  {
   "cell_type": "code",
   "execution_count": null,
   "metadata": {},
   "outputs": [],
   "source": [
    "#criando um ranking dos principais destinos a partir da variável 'average_trips'\n",
    "top_destinos = sql_04.sort_values(by='average_trips', ascending=False).head(10)[['dropoff_location_name', 'average_trips']]\n",
    "print(top_destinos)"
   ]
  },
  {
   "cell_type": "code",
   "execution_count": null,
   "metadata": {},
   "outputs": [],
   "source": [
    "# Criando o gráfico de barras\n",
    "plt.figure(figsize=(10, 6))  # Definindo o tamanho do gráfico\n",
    "plt.barh(top_destinos['dropoff_location_name'], top_destinos['average_trips'], color='skyblue')  # Criando o gráfico de barras horizontais\n",
    "plt.xlabel('Número Médio de Corridas')  # Definindo o rótulo do eixo x\n",
    "plt.ylabel('Destinos')  # Definindo o rótulo do eixo y\n",
    "plt.title('Top 10 Destinos por Número Médio de Corridas')  # Definindo o título do gráfico\n",
    "plt.gca().invert_yaxis()  # Invertendo o eixo y para que o maior valor fique no topo\n",
    "plt.tight_layout()  # Ajustando o layout para evitar cortes\n",
    "plt.show()  # Mostrando o gráfico"
   ]
  },
  {
   "cell_type": "markdown",
   "metadata": {},
   "source": [
    "O principal destino é o bairro do Loop, seguido por River North, Streetville e West Loop.\n",
    "\n",
    "2.2  Principais empresas de táxi"
   ]
  },
  {
   "cell_type": "code",
   "execution_count": null,
   "metadata": {},
   "outputs": [],
   "source": [
    "#criando um ranking das principais empresas de taxi a partir da variável 'trips_amount'\n",
    "top_empresas = sql_01.sort_values(by='trips_amount', ascending=False).head(10)[['company_name', 'trips_amount']]\n",
    "print(top_empresas)\n",
    "\n"
   ]
  },
  {
   "cell_type": "code",
   "execution_count": null,
   "metadata": {},
   "outputs": [],
   "source": [
    "# Criando o gráfico de barras\n",
    "plt.figure(figsize=(10, 6))  # Definindo o tamanho do gráfico\n",
    "plt.barh(top_empresas['company_name'], top_empresas['trips_amount'], color='seagreen')  # Criando o gráfico de barras horizontais\n",
    "plt.xlabel('Número de Corridas')  # Definindo o rótulo do eixo x\n",
    "plt.ylabel('Empresas de táxi')  # Definindo o rótulo do eixo y\n",
    "plt.title('Top 10 Empresas por Número de Corridas')  # Definindo o título do gráfico\n",
    "plt.gca().invert_yaxis()  # Invertendo o eixo y para que o maior valor fique no topo\n",
    "plt.tight_layout()  # Ajustando o layout para evitar cortes\n",
    "plt.show()  # Mostrando o gráfico"
   ]
  },
  {
   "cell_type": "markdown",
   "metadata": {},
   "source": [
    "A empresa preferida pelos usurários seria a Flash Cab, as demais disputam o mercado de maneira mais equilibrada."
   ]
  },
  {
   "cell_type": "markdown",
   "metadata": {},
   "source": [
    "3  TESTE DE HIPÓTESES¶"
   ]
  },
  {
   "cell_type": "markdown",
   "metadata": {},
   "source": [
    "Hipótese Nula (H0): A duração média dos passeios do Loop para o Aeroporto Internacional O'Hare não muda em dias de sábado chuvosos.\n",
    "Hipótese Alternativa (H1): A duração média dos passeios do Loop para o Aeroporto Internacional O'Hare muda em dias de sábado chuvosos.\n",
    "α = 5%\n",
    "Vou realisar um teste t de amostras independentes para comparar as médias das duas amostras. Neste caso, para comparar a média das durações dos passeios nos dias de sábado chuvosos com a média das durações dos passeios em outros dias. Verificando a igualdade de variâncias antes de realizar o teste t, por meio do Bartlett's Test."
   ]
  },
  {
   "cell_type": "code",
   "execution_count": null,
   "metadata": {},
   "outputs": [],
   "source": [
    "# Separando os dados em dois grupos: durações dos passeios em dias de sábado chuvosos e não chuvoso\n",
    "duracao_chuvoso = sql_07[sql_07['weather_conditions'] == 'Bad']['duration_seconds']\n",
    "duracao_nao_chuvoso = sql_07[sql_07['weather_conditions'] != 'Bad']['duration_seconds']\n",
    "\n",
    "# Realizar o teste de igualdade de variâncias (Bartlett's Test)\n",
    "bartlett_test = stats.bartlett(duracao_chuvoso, duracao_nao_chuvoso)\n",
    "\n",
    "# Verificar o resultado do teste de igualdade de variâncias\n",
    "if bartlett_test.pvalue > 0.05:\n",
    "    equal_var = True\n",
    "    print(\"Variâncias iguais (p-value =\", bartlett_test.pvalue, \")\")\n",
    "else:\n",
    "    equal_var = False\n",
    "    print(\"Variâncias diferentes (p-value =\", bartlett_test.pvalue, \")\")\n",
    "\n",
    "# Teste t de amostras independentes\n",
    "results = stats.ttest_ind(duracao_chuvoso, duracao_nao_chuvoso, equal_var=equal_var)\n",
    "\n",
    "# Imprimir o p-value do teste t\n",
    "print('p-value:', results.pvalue)"
   ]
  },
  {
   "cell_type": "markdown",
   "metadata": {},
   "source": [
    "O p-value do teste de Bartlett é 0.38, o que indica que não há evidências suficientes para rejeitar a hipótese nula de que as variâncias das duas amostras são diferentes. Assim, podemos considerar que as variâncias são estatisticamente iguais.\n",
    "O p-value do teste t é 6.52e-12, que é muito menor que o nível de significância padrão de 0.05.\n",
    "Com um p-value tão baixo, rejeitamos a hipótese nula de que não há diferença na duração média dos passeios nos dias de sábado chuvosos em relação aos outros dias. Isso significa que há evidências estatísticas significativas para sugerir que a duração média dos passeios do Loop para o Aeroporto Internacional O'Hare muda em dias de sábado chuvosos."
   ]
  },
  {
   "cell_type": "markdown",
   "metadata": {},
   "source": [
    "4  CONCLUSÕES"
   ]
  },
  {
   "cell_type": "markdown",
   "metadata": {},
   "source": [
    "Com base nas informações coletadas e nas análises realizadas, podemos chegar às seguintes conclusões:\n",
    "\n",
    "Principais Destinos:\n",
    "\n",
    "O principal destino para as corridas é o bairro do Loop, seguido por River North, Streetville e West Loop. Isso sugere que essas áreas são áreas de alta demanda para serviços de compartilhamento de caronas e podem representar oportunidades de negócios significativas para a Zuber.\n",
    "Empresa Preferida pelos Usuários:\n",
    "\n",
    "A empresa preferida pelos usuários parece ser a Flash Cab, com as demais empresas disputando o mercado de maneira mais equilibrada. Isso pode ser um ponto importante a ser considerado na estratégia de marketing e aquisição de clientes da Zuber, já que a Flash Cab parece ter uma base de clientes mais estabelecida.\n",
    "Impacto do Clima na Frequência das Viagens:\n",
    "\n",
    "Com base no resultado do teste de hipótese, rejeitamos a hipótese nula de que a duração média dos passeios do Loop para o Aeroporto Internacional O'Hare não muda em dias de sábado chuvosos. Isso sugere que o clima pode ter um impacto significativo na frequência das viagens, com os passageiros possivelmente optando por usar mais ou menos os serviços de compartilhamento de caronas com base nas condições climáticas.\n",
    "​"
   ]
  }
 ],
 "metadata": {
  "language_info": {
   "name": "python"
  }
 },
 "nbformat": 4,
 "nbformat_minor": 2
}
